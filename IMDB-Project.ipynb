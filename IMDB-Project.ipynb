{
 "cells": [
  {
   "cell_type": "markdown",
   "metadata": {},
   "source": [
    "# Count Genre\n",
    "\n",
    "IMDB.sqlite' database contains all details of movies and has three tables with name IMDB, genre and earning.\n",
    "Find the count of each genre present in IMDB movie dataset?\n",
    "Print the Genre and number of movies present in that genre.\n",
    "Note: Ignore the empty value present in genre."
   ]
  },
  {
   "cell_type": "code",
   "execution_count": 21,
   "metadata": {},
   "outputs": [
    {
     "name": "stdout",
     "output_type": "stream",
     "text": [
      "Drama 77\n",
      "Adventure 43\n",
      "Action 33\n",
      "Comedy 31\n",
      "Biography 21\n",
      "Sci-Fi 18\n",
      "Thriller 14\n",
      "Romance 13\n",
      "Animation 13\n",
      "Crime 11\n",
      "Mystery 7\n",
      "Fantasy 7\n",
      "History 6\n",
      "Family 3\n",
      "Sport 3\n",
      "Music 3\n",
      "Western 2\n",
      "War 2\n",
      "Horror 2\n",
      "Musical 1\n"
     ]
    }
   ],
   "source": [
    "import pandas as pd\n",
    "import sqlite3\n",
    "\n",
    "db = sqlite3.connect('IMDB.sqlite')\n",
    "cur = db.cursor()\n",
    "\n",
    "imdb = pd.read_sql_query('select * from imdb', db)\n",
    "genre = pd.read_sql_query('select * from genre', db)\n",
    "earning = pd.read_sql_query('select * from earning', db)\n",
    "\n",
    "genre_name = genre['genre'].value_counts().index\n",
    "genre_count = genre['genre'].value_counts().values\n",
    "\n",
    "for i in range(len(genre_name)):\n",
    "    if genre_name[i] == '':\n",
    "        continue\n",
    "    print(genre_name[i],genre_count[i])"
   ]
  },
  {
   "cell_type": "markdown",
   "metadata": {},
   "source": [
    "# IMDB Movie\n",
    "Find the highest-grossing movie (i.e domestic earning + worldwide earning) in IMDB database.\n",
    "Print the rating of that movie."
   ]
  },
  {
   "cell_type": "code",
   "execution_count": 51,
   "metadata": {},
   "outputs": [
    {
     "name": "stdout",
     "output_type": "stream",
     "text": [
      "8.1\n"
     ]
    }
   ],
   "source": [
    "import pandas as pd\n",
    "import sqlite3\n",
    "\n",
    "db = sqlite3.connect('IMDB.sqlite')\n",
    "cur = db.cursor()\n",
    "\n",
    "imdb = pd.read_sql_query('select * from imdb', db)\n",
    "genre = pd.read_sql_query('select * from genre', db)\n",
    "earning = pd.read_sql_query('select * from earning', db)\n",
    "\n",
    "earning['Total'] = earning['Domestic'] + earning['Worldwide']\n",
    "index = earning['Total'].idxmax()\n",
    "# earning\n",
    "movie_id = earning['Movie_id'][index]\n",
    "print(imdb[imdb.Movie_id == movie_id]['Rating'].values[0])"
   ]
  },
  {
   "cell_type": "markdown",
   "metadata": {},
   "source": [
    "# IMDB Voted\n",
    "Find the most voted movie in IMDB Movie Database.\n",
    "Print the movie name and the rating of that movie."
   ]
  },
  {
   "cell_type": "code",
   "execution_count": 55,
   "metadata": {},
   "outputs": [
    {
     "name": "stdout",
     "output_type": "stream",
     "text": [
      "Inception (2010) 8.8\n"
     ]
    }
   ],
   "source": [
    "import pandas as pd\n",
    "import sqlite3\n",
    "\n",
    "db = sqlite3.connect('IMDB.sqlite')\n",
    "cur = db.cursor()\n",
    "\n",
    "imdb = pd.read_sql_query('select * from imdb', db)\n",
    "genre = pd.read_sql_query('select * from genre', db)\n",
    "earning = pd.read_sql_query('select * from earning', db)\n",
    "\n",
    "index = imdb['TotalVotes'].idxmax()\n",
    "print(imdb['Title'][index],imdb['Rating'][index])"
   ]
  },
  {
   "cell_type": "markdown",
   "metadata": {},
   "source": [
    "# IMDB Running Time\n",
    "Find the Movie with Longest-Running Time from IMDB Movie database.\n",
    "Print the name of movie and running time as integer value.\n"
   ]
  },
  {
   "cell_type": "code",
   "execution_count": 122,
   "metadata": {},
   "outputs": [
    {
     "name": "stdout",
     "output_type": "stream",
     "text": [
      "The Wolf of Wall Street (2013) 180\n"
     ]
    }
   ],
   "source": [
    "import pandas as pd\n",
    "import sqlite3\n",
    "\n",
    "db = sqlite3.connect('IMDB.sqlite')\n",
    "cur = db.cursor()\n",
    "\n",
    "imdb = pd.read_sql_query('select * from imdb', db)\n",
    "genre = pd.read_sql_query('select * from genre', db)\n",
    "earning = pd.read_sql_query('select * from earning', db)\n",
    "imdb['Runtime'].dropna(inplace=True)\n",
    "imdb['Runtime'][imdb.Runtime == ''] = '0 min'\n",
    "imdb['Runtime'] = imdb['Runtime'].apply(lambda x: str(x).split(\" \")[0])\n",
    "imdb['Runtime'] = pd.to_numeric(imdb['Runtime'])\n",
    "index = imdb['Runtime'].idxmax()\n",
    "print(imdb['Title'][index],imdb['Runtime'][index])"
   ]
  },
  {
   "cell_type": "markdown",
   "metadata": {},
   "source": [
    "# IMDB Profit\n",
    "Find the movie which has maximum net profit in IMDB Movie Database.\n",
    "Print the movie name.\n",
    "Note: Net Profit= Total Earning(Domestic+WorldWide earning) - budget"
   ]
  },
  {
   "cell_type": "code",
   "execution_count": 98,
   "metadata": {},
   "outputs": [
    {
     "name": "stdout",
     "output_type": "stream",
     "text": [
      "Star Wars: The Force Awakens (2015)\n"
     ]
    }
   ],
   "source": [
    "import pandas as pd\n",
    "import sqlite3\n",
    "\n",
    "db = sqlite3.connect('IMDB.sqlite')\n",
    "cur = db.cursor()\n",
    "\n",
    "imdb = pd.read_sql_query('select * from imdb', db)\n",
    "genre = pd.read_sql_query('select * from genre', db)\n",
    "earning = pd.read_sql_query('select * from earning', db)\n",
    "\n",
    "imdb_earning = pd.merge(imdb,earning,on='Movie_id')\n",
    "imdb_earning['Domestic'].replace('',0,inplace=True)\n",
    "imdb_earning['Worldwide'].replace('',0,inplace=True)\n",
    "imdb_earning['Budget'].replace('',0,inplace=True)\n",
    "imdb_earning['Profit'] = imdb_earning['Domestic'] + imdb_earning['Worldwide'] - imdb_earning['Budget']\n",
    "index = imdb_earning['Profit'].idxmax()\n",
    "print(imdb_earning['Title'][index])"
   ]
  },
  {
   "cell_type": "markdown",
   "metadata": {},
   "source": [
    "# IMDB Least Budget\n",
    "Find the least budgeted movie in IMDB Movie Database.\n",
    "If there is more than one least budgeted movies then print the movie which has maximum net profit.\n",
    "Note: Net Profit= Total Earning(Domestic+WorldWide earning) - budget"
   ]
  },
  {
   "cell_type": "code",
   "execution_count": 135,
   "metadata": {},
   "outputs": [
    {
     "name": "stdout",
     "output_type": "stream",
     "text": [
      "Short Term 12 (2013)\n"
     ]
    }
   ],
   "source": [
    "import pandas as pd\n",
    "import sqlite3\n",
    "\n",
    "db = sqlite3.connect('IMDB.sqlite')\n",
    "cur = db.cursor()\n",
    "\n",
    "imdb = pd.read_sql_query('select * from imdb', db)\n",
    "genre = pd.read_sql_query('select * from genre', db)\n",
    "earning = pd.read_sql_query('select * from earning', db)\n",
    "\n",
    "imdb_earning = pd.merge(imdb,earning,on='Movie_id')\n",
    "imdb_earning['Domestic'].replace('',0,inplace=True)\n",
    "imdb_earning['Worldwide'].replace('',0,inplace=True)\n",
    "imdb_earning = imdb_earning[imdb_earning['Budget'] != '']\n",
    "imdb_earning['Budget'].dropna(inplace=True)\n",
    "imdb_earning['Profit'] = imdb_earning['Domestic'] + imdb_earning['Worldwide'] - imdb_earning['Budget']\n",
    "imdb_earning = imdb_earning[imdb_earning['Budget'] == imdb_earning['Budget'].min()]\n",
    "imdb_earning['Profit'] = pd.to_numeric(imdb_earning['Profit'])\n",
    "index = imdb_earning['Profit'].idxmax()\n",
    "print(imdb_earning['Title'][index])"
   ]
  },
  {
   "cell_type": "markdown",
   "metadata": {},
   "source": [
    "# IMDB Year Top\n",
    "\n",
    "Find the highest-grossing movie (i.e domestic earning + worldwide earning) in IMDB database year wise.\n",
    "Print the Year and name of the movie which was the highest grosser in that year.\n",
    "Note:Print the year in ascending order."
   ]
  },
  {
   "cell_type": "code",
   "execution_count": 163,
   "metadata": {},
   "outputs": [
    {
     "name": "stdout",
     "output_type": "stream",
     "text": [
      "2010 Toy Story 3 (2010)\n",
      "2011 Rise of the Planet of the Apes (2011)\n",
      "2012 The Avengers (2012)\n",
      "2013 The Hunger Games: Catching Fire (2013)\n",
      "2014 Guardians of the Galaxy (2014)\n",
      "2015 Star Wars: The Force Awakens (2015)\n",
      "2016 Rogue One (2016)\n"
     ]
    }
   ],
   "source": [
    "import pandas as pd\n",
    "import sqlite3\n",
    "\n",
    "db = sqlite3.connect('IMDB.sqlite')\n",
    "\n",
    "imdb = pd.read_sql_query('select * from imdb', db)\n",
    "genre = pd.read_sql_query('select * from genre', db)\n",
    "earning = pd.read_sql_query('select * from earning', db)\n",
    "\n",
    "#Can Fetch Year from Title\n",
    "\n",
    "imdb_earning = pd.merge(imdb,earning,on='Movie_id')\n",
    "imdb_earning['TotalEarning'] = imdb_earning['Domestic'] + imdb_earning['Worldwide']\n",
    "imdb_earning['Year'] = imdb_earning['Title'].apply(lambda x: str(x).split(\"(\")[-1][:-1])\n",
    "\n",
    "year = imdb_earning.groupby(\"Year\")[\"TotalEarning\"].idxmax().index\n",
    "index = imdb_earning.groupby(\"Year\")[\"TotalEarning\"].idxmax().values\n",
    "\n",
    "for i in range(len(year)):\n",
    "    print(year[i],imdb_earning['Title'][index[i]])"
   ]
  },
  {
   "cell_type": "markdown",
   "metadata": {},
   "source": [
    "## IMDB Genre Budget\n",
    "\n",
    "Find out the percentage of the budget for each genre in IMDB Movie Dataset?Plot the pie chart.\n",
    "Print the genre and percentage of movies budget present in that genre with 2 decimal place after rounding off..\n",
    "Note: Movies has multiple genres, so calculate the percentage for each genre.Replace empty budget column to zero."
   ]
  },
  {
   "cell_type": "code",
   "execution_count": 210,
   "metadata": {},
   "outputs": [
    {
     "name": "stdout",
     "output_type": "stream",
     "text": [
      "Biography 2.59\n",
      "Drama 10.85\n",
      "History 0.72\n",
      "Adventure 25.10\n",
      "Comedy 7.22\n",
      "Romance 1.12\n",
      "Fantasy 4.54\n",
      "Action 17.98\n",
      "Mystery 1.95\n",
      "Sci-Fi 10.77\n",
      "Animation 7.66\n",
      "Thriller 3.99\n",
      "Sport 0.46\n",
      "Western 0.57\n",
      "Crime 1.77\n",
      "War 0.36\n",
      "Family 1.91\n",
      "Music 0.15\n",
      "Musical 0.25\n",
      "Horror 0.03\n"
     ]
    },
    {
     "data": {
      "image/png": "[encoded data removed]",
      "text/plain": [
       "<Figure size 432x288 with 1 Axes>"
      ]
     },
     "metadata": {},
     "output_type": "display_data"
    }
   ],
   "source": [
    "import pandas as pd\n",
    "import sqlite3\n",
    "import matplotlib.pyplot as plt\n",
    "\n",
    "db = sqlite3.connect('IMDB.sqlite')\n",
    "cur = db.cursor()\n",
    "\n",
    "imdb = pd.read_sql_query('select * from imdb', db)\n",
    "genre = pd.read_sql_query('select * from genre', db)\n",
    "earning = pd.read_sql_query('select * from earning', db)\n",
    "\n",
    "imdb_genre = pd.merge(imdb,genre,on=\"Movie_id\")\n",
    "imdb_genre['Budget'].replace('',0,inplace=True)\n",
    "imdb_genre = imdb_genre[imdb_genre['genre'] != '']\n",
    "\n",
    "output = {}\n",
    "totalbudget = imdb_genre['Budget'].sum()\n",
    "\n",
    "labels = imdb_genre['genre'].unique()\n",
    "sizes = []\n",
    "\n",
    "for row in imdb_genre.iterrows():\n",
    "    genre = row[1]['genre']\n",
    "    if genre in output:\n",
    "        output[genre] += row[1]['Budget']\n",
    "    else:\n",
    "        output[genre] = row[1]['Budget']\n",
    "for i in output:\n",
    "    sizes.append(output[i])\n",
    "    print(i,\"{:.2f}\".format(output[i]*100/totalbudget))\n",
    "    \n",
    "plt.title('Genre vs Budget for the Genre in %')\n",
    "plt.pie(sizes,labels=labels,autopct=\"%.2f%%\",counterclock=False,startangle=100)\n",
    "# plt.axis(\"equal\")\n",
    "plt.show()"
   ]
  },
  {
   "cell_type": "code",
   "execution_count": null,
   "metadata": {},
   "outputs": [],
   "source": []
  }
 ],
 "metadata": {
  "kernelspec": {
   "display_name": "Python 3",
   "language": "python",
   "name": "python3"
  },
  "language_info": {
   "codemirror_mode": {
    "name": "ipython",
    "version": 3
   },
   "file_extension": ".py",
   "mimetype": "text/x-python",
   "name": "python",
   "nbconvert_exporter": "python",
   "pygments_lexer": "ipython3",
   "version": "3.8.3"
  }
 },
 "nbformat": 4,
 "nbformat_minor": 4
}
