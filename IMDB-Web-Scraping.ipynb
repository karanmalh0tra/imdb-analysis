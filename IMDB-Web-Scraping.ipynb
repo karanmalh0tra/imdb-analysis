{
 "cells": [
  {
   "cell_type": "markdown",
   "metadata": {},
   "source": [
    "## Print the data of first 3 movies\n",
    "\n",
    "Link: https://www.imdb.com/search/title/?release_date=2018&sort=num_votes,desc&page=1&ref_=adv_nxt\n",
    "\n",
    "Find and print the name and genre of the first 3 titles"
   ]
  },
  {
   "cell_type": "code",
   "execution_count": 11,
   "metadata": {},
   "outputs": [
    {
     "name": "stdout",
     "output_type": "stream",
     "text": [
      "Avengers: Infinity War ; Action, Adventure, Sci-Fi\n",
      "Black Panther ; Action, Adventure, Sci-Fi\n",
      "Deadpool 2 ; Action, Adventure, Comedy\n"
     ]
    }
   ],
   "source": [
    "import requests\n",
    "from bs4 import BeautifulSoup\n",
    "\n",
    "response = requests.get('https://www.imdb.com/search/title/?release_date=2018&sort=num_votes,desc&page=1&ref_=adv_nxt')\n",
    "soup = BeautifulSoup(response.text,'html.parser')\n",
    "movies = soup.find_all(class_ = 'lister-item-content')[:3]\n",
    "for movie in movies:\n",
    "    name = movie.h3.a.string\n",
    "    genre = movie.find(class_ = 'genre').string.strip()\n",
    "    print(name + ' ; ' + genre)"
   ]
  },
  {
   "cell_type": "markdown",
   "metadata": {},
   "source": [
    "## Title with most votes\n",
    "\n",
    "Print the names of movies with highest number of votes from year 2010 to 2014\n",
    "Note : Print the titles line wise starting from year 2010"
   ]
  },
  {
   "cell_type": "code",
   "execution_count": 29,
   "metadata": {},
   "outputs": [
    {
     "name": "stdout",
     "output_type": "stream",
     "text": [
      "Inception\n",
      "Game of Thrones\n",
      "The Dark Knight Rises\n",
      "The Wolf of Wall Street\n",
      "Interstellar\n"
     ]
    }
   ],
   "source": [
    "import requests\n",
    "from bs4 import BeautifulSoup\n",
    "\n",
    "url_list = ['https://www.imdb.com/search/title/?release_date=2010-01-01,2010-12-31&sort=num_votes,desc&view=advanced',\n",
    "           'https://www.imdb.com/search/title/?release_date=2011-01-01,2011-12-31&sort=num_votes,desc&view=advanced',\n",
    "           'https://www.imdb.com/search/title/?release_date=2012-01-01,2012-12-31&sort=num_votes,desc&view=advanced',\n",
    "           'https://www.imdb.com/search/title/?release_date=2013-01-01,2013-12-31&sort=num_votes,desc&view=advanced',\n",
    "           'https://www.imdb.com/search/title/?release_date=2014-01-01,2014-12-31&sort=num_votes,desc&view=advanced']\n",
    "\n",
    "for url in url_list:\n",
    "    response = requests.get(url)\n",
    "    soup = BeautifulSoup(response.text,'html.parser')\n",
    "    movies = soup.find_all(class_ = 'lister-item-content')[0]\n",
    "    print(movies.h3.a.string.strip())"
   ]
  },
  {
   "cell_type": "code",
   "execution_count": 30,
   "metadata": {},
   "outputs": [
    {
     "name": "stdout",
     "output_type": "stream",
     "text": [
      "Inception\n",
      "Game of Thrones\n",
      "The Dark Knight Rises\n",
      "The Wolf of Wall Street\n",
      "Interstellar\n"
     ]
    }
   ],
   "source": [
    "#Alternate\n",
    "\n",
    "import requests\n",
    "from bs4 import BeautifulSoup\n",
    "url='https://www.imdb.com/search/title?release_date=2018&sort=num_votes,desc&page=1&ref_=adv_nxt'\n",
    "url0='https://www.imdb.com/search/title/?release_date='\n",
    "url1='&sort=num_votes,desc&page=1&ref_=adv_nxt'\n",
    "j=2010\n",
    "for i in range(5):\n",
    "    \n",
    "    u=url0+str(j)+url1\n",
    "    r=requests.get(u)\n",
    "    data=BeautifulSoup(r.text,'html.parser')\n",
    "    print(data.h3.a.text)\n",
    "    j=int(j)+1"
   ]
  },
  {
   "cell_type": "markdown",
   "metadata": {},
   "source": [
    "## Title with maximum Duration\n",
    "\n",
    "Out of the first 250 titles with highest number of votes in 2018,find which title has the maximum duration."
   ]
  },
  {
   "cell_type": "code",
   "execution_count": 41,
   "metadata": {},
   "outputs": [
    {
     "name": "stdout",
     "output_type": "stream",
     "text": [
      "The Haunting of Hill House 572\n"
     ]
    }
   ],
   "source": [
    "import requests\n",
    "from bs4 import BeautifulSoup\n",
    "\n",
    "base_url = 'https://www.imdb.com'\n",
    "current_url = 'https://www.imdb.com/search/title/?release_date=2018-01-01,2018-12-31&sort=num_votes,desc'\n",
    "\n",
    "movie_name = \"\"\n",
    "movie_duration = -1\n",
    "for _ in range(4):\n",
    "    response = requests.get(current_url)\n",
    "    soup = BeautifulSoup(response.text,'html.parser')\n",
    "    movies = soup.find_all(class_ = 'lister-item-content')\n",
    "    for movie in movies:\n",
    "        title = movie.h3.a.string\n",
    "        time = int(movie.find(class_ = 'runtime').string.split(' ')[0])\n",
    "        if time > movie_duration:\n",
    "            movie_duration = time\n",
    "            movie_name = title\n",
    "    \n",
    "    \n",
    "    next_url = base_url + soup.find(class_ = 'lister-page-next next-page')['href']\n",
    "    current_url = next_url\n",
    "print(movie_name,movie_duration)"
   ]
  }
 ],
 "metadata": {
  "kernelspec": {
   "display_name": "Python 3",
   "language": "python",
   "name": "python3"
  },
  "language_info": {
   "codemirror_mode": {
    "name": "ipython",
    "version": 3
   },
   "file_extension": ".py",
   "mimetype": "text/x-python",
   "name": "python",
   "nbconvert_exporter": "python",
   "pygments_lexer": "ipython3",
   "version": "3.8.3"
  }
 },
 "nbformat": 4,
 "nbformat_minor": 4
}
